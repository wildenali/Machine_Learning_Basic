{
 "cells": [
  {
   "cell_type": "code",
   "execution_count": null,
   "metadata": {},
   "outputs": [],
   "source": [
    "import numpy as np\n",
    "from numpy import loadtxt"
   ]
  },
  {
   "cell_type": "markdown",
   "metadata": {},
   "source": [
    "Feed Forward adalah proses dari belakang sampai depan dan selesai"
   ]
  },
  {
   "cell_type": "markdown",
   "metadata": {},
   "source": [
    "![a_01_determine_w_b_z_a](D:\\Wilden github\\Machine_Learning_Basic\\06_Feed_Forward\\a_01_determine_w_b_z_a.JPG)\n",
    "- 8 input (Pregnancies, Glucose, BloodPressure, SkinThickness, Insulin, BMI, DiabetesPerdigreeFunction, Age)\n",
    "- Outcome is label used for the person get diabetes or not\n",
    "- Delete the first row in diabetes.csv (Pregnancies, Glucose, BloodPressure, SkinThickness, Insulin, BMI, DiabetesPerdigreeFunction, Age)\n",
    "\n",
    "- 10 node   (first layer)\n",
    "- 4 node    (second layer)\n",
    "- 1 node    (last layer)\n",
    "\n",
    "- Input: [x]8x768 (8 for Pregnancies, Glucose, BloodPressure, SkinThickness, Insulin, BMI, DiabetesPerdigreeFunction, Age, and 768 for amounts of data)\n",
    "- Ouput: yhat with shape 1x768 (1 for 1 node of last layer, 768 for amounts of data)\n",
    "\n",
    "1. How to determine weight 'w', bias 'b', logistic regression'z' and output every node 'a'(yhat) in first layer (10 node)\n",
    "    - [w1]10x8 (10 for 10 node, 8 for Pregnancies, Glucose, BloodPressure, SkinThickness, Insulin, BMI, DiabetesPerdigreeFunction, Age)\n",
    "    - [b1]10x1 (10 for node, 1 for bias every node)\n",
    "    - [z1]10x768 (10 for node, 768 for amount of data)\n",
    "    - [a1]10x768 (10 for node, 768 for amount of data)\n",
    "\n",
    "\n",
    "2. How to determine weight 'w', bias 'b', logistic regression'z' and output every node 'a'(yhat) in second layer (4 node)\n",
    "    - [w1]4x8 (4 for 10 node, 8 for Pregnancies, Glucose, BloodPressure, SkinThickness, Insulin, BMI, DiabetesPerdigreeFunction, Age)\n",
    "    - [b1]4x1 (4 for node, 1 for bias every node)\n",
    "    - [z1]4x768 (4 for node, 768 for amount of data)\n",
    "    - [a1]4x768 (4 for node, 768 for amount of data)\n",
    "\n",
    "3. How to determine weight 'w', bias 'b', logistic regression'z' and output every node 'a'(yhat) in second layer (1 node)\n",
    "    - [w1]1x8 (1 for 10 node, 8 for Pregnancies, Glucose, BloodPressure, SkinThickness, Insulin, BMI, DiabetesPerdigreeFunction, Age)\n",
    "    - [b1]1x1 (1 for node, 1 for bias every node)\n",
    "    - [z1]1x768 (1 for node, 768 for amount of data)\n",
    "    - [a1]1x768 (1 for node, 768 for amount of data)"
   ]
  },
  {
   "cell_type": "code",
   "execution_count": null,
   "metadata": {},
   "outputs": [],
   "source": [
    "dataset = loadtxt('diabetes.csv', delimite=',')\n",
    "\n",
    "X = dataset[:,0:8]  # column 0 until 7th\n",
    "y = dataset[:,8]    # column 8th"
   ]
  },
  {
   "cell_type": "code",
   "execution_count": null,
   "metadata": {},
   "outputs": [],
   "source": [
    "print(X.shape)      # output will be (768, 8)\n",
    "                    # this is incorect because the right shape is (8, 768)\n",
    "                    # so need to Transpose first"
   ]
  },
  {
   "cell_type": "code",
   "execution_count": null,
   "metadata": {},
   "outputs": [],
   "source": [
    "X = X.T\n",
    "print(X.shape)      # output will be (8, 768) that's mean the output is correct"
   ]
  },
  {
   "cell_type": "code",
   "execution_count": null,
   "metadata": {},
   "outputs": [],
   "source": [
    "print(y.shape)      # output will be (768,) ini tidak jelas, namanya rank 1 matrix\n",
    "                    # tidak jelas, baris atau kolom\n",
    "                    # maka harus di reshape\n",
    "\n",
    "y = y.reshape((-1,1)) # atau y = y.reshape((768,1)) # ini untuk nge reshape y jadi 768 baris dan 1 kolom, -1 adalah sesuai dengan panjang datanya\n",
    "print(y.shape)      # output will be (768, 1), this is incorrect shape so need to Tranpose first\n",
    "y = y.T             # Transpose the y it will be change the shape of y\n",
    "print(y.shape)      # output will be (1, 768), this output is correct shape"
   ]
  },
  {
   "cell_type": "code",
   "execution_count": null,
   "metadata": {},
   "outputs": [],
   "source": [
    "# Create weight and bias\n",
    "w1 = np.random.rand(10,8)\n",
    "b1 = np.zeros((10, 1))\n",
    "\n",
    "w2 = np.random.rand(4,8)\n",
    "b2 = np.zeros((4, 1))\n",
    "\n",
    "w3 = np.random.rand(1,8)\n",
    "b3 = np.zeros((1, 1))"
   ]
  },
  {
   "cell_type": "code",
   "execution_count": null,
   "metadata": {},
   "outputs": [],
   "source": [
    "print(w1)\n",
    "print(w1.shape)\n",
    "print(b1)\n",
    "print(b1.shape)"
   ]
  },
  {
   "cell_type": "code",
   "execution_count": null,
   "metadata": {},
   "outputs": [],
   "source": [
    "print(w2)\n",
    "print(w2.shape)\n",
    "print(b2)\n",
    "print(b2.shape)"
   ]
  },
  {
   "cell_type": "code",
   "execution_count": null,
   "metadata": {},
   "outputs": [],
   "source": [
    "print(w3)\n",
    "print(w3.shape)\n",
    "print(b3)\n",
    "print(b3.shape)"
   ]
  },
  {
   "cell_type": "code",
   "execution_count": null,
   "metadata": {},
   "outputs": [],
   "source": [
    "# Create a sigmoid function\n",
    "def sigmoid(z):\n",
    "\n",
    "    a = 1/(1+np.exp(-z))\n",
    "    \n",
    "    return a"
   ]
  },
  {
   "cell_type": "code",
   "execution_count": null,
   "metadata": {},
   "outputs": [],
   "source": [
    "a0 = X\n",
    "\n",
    "z1 = np.dot(w1,a0)+b1\n",
    "a1 = sigmoid(z1)\n",
    "\n",
    "z2 = np.dot(w2,a1)+b2\n",
    "a2 = sigmoid(z2)\n",
    "\n",
    "z3 = np.dot(w3,a2)+b3\n",
    "a3 = sigmoid(z3)"
   ]
  },
  {
   "cell_type": "code",
   "execution_count": null,
   "metadata": {},
   "outputs": [],
   "source": [
    "print(z1.shape)     # check shape, output will be (10, 768) thas's mean the output is correct\n",
    "print(a1.shape)     # check shape, output will be (10, 768) thas's mean the output is correct\n",
    "print(z2.shape)     # check shape, output will be (4, 768) thas's mean the output is correct\n",
    "print(a2.shape)     # check shape, output will be (4, 768) thas's mean the output is correct\n",
    "print(z3.shape)     # check shape, output will be (1, 768) thas's mean the output is correct\n",
    "print(a3.shape)     # check shape, output will be (1, 768) thas's mean the output is correct"
   ]
  },
  {
   "cell_type": "code",
   "execution_count": null,
   "metadata": {},
   "outputs": [],
   "source": [
    "yhat = a3"
   ]
  },
  {
   "cell_type": "code",
   "execution_count": null,
   "metadata": {},
   "outputs": [],
   "source": [
    "# Calculate the Loss function L\n",
    "L = -y*np.log(yhat)-(1-y)*np.log(1-yhat)"
   ]
  },
  {
   "cell_type": "code",
   "execution_count": null,
   "metadata": {},
   "outputs": [],
   "source": [
    "# Calculate the Cost function (rata rata nilai Loss)\n",
    "J = 1/768*np.sum(L)"
   ]
  },
  {
   "cell_type": "code",
   "execution_count": null,
   "metadata": {},
   "outputs": [],
   "source": [
    "print(J)            # output 1.391xxx"
   ]
  }
 ],
 "metadata": {
  "language_info": {
   "name": "plaintext"
  },
  "orig_nbformat": 4
 },
 "nbformat": 4,
 "nbformat_minor": 2
}
